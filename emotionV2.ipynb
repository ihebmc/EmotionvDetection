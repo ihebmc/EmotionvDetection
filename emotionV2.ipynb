{
 "cells": [
  {
   "cell_type": "code",
   "execution_count": 9,
   "id": "cd6cca90-93a0-45b7-950f-2b127df317d3",
   "metadata": {},
   "outputs": [
    {
     "ename": "ModuleNotFoundError",
     "evalue": "No module named 'cvzone'",
     "output_type": "error",
     "traceback": [
      "\u001b[1;31m---------------------------------------------------------------------------\u001b[0m",
      "\u001b[1;31mModuleNotFoundError\u001b[0m                       Traceback (most recent call last)",
      "Cell \u001b[1;32mIn[9], line 5\u001b[0m\n\u001b[0;32m      3\u001b[0m \u001b[38;5;28;01mimport\u001b[39;00m \u001b[38;5;21;01mmath\u001b[39;00m\n\u001b[0;32m      4\u001b[0m \u001b[38;5;28;01mimport\u001b[39;00m \u001b[38;5;21;01mtime\u001b[39;00m\n\u001b[1;32m----> 5\u001b[0m \u001b[38;5;28;01mfrom\u001b[39;00m \u001b[38;5;21;01mcvzone\u001b[39;00m\u001b[38;5;21;01m.\u001b[39;00m\u001b[38;5;21;01mHandTrackingModule\u001b[39;00m \u001b[38;5;28;01mimport\u001b[39;00m HandDetector\n\u001b[0;32m      6\u001b[0m \u001b[38;5;28;01mfrom\u001b[39;00m \u001b[38;5;21;01mcvzone\u001b[39;00m\u001b[38;5;21;01m.\u001b[39;00m\u001b[38;5;21;01mClassificationModule\u001b[39;00m \u001b[38;5;28;01mimport\u001b[39;00m Classifier\n\u001b[0;32m      7\u001b[0m \u001b[38;5;28;01mfrom\u001b[39;00m \u001b[38;5;21;01mkeras\u001b[39;00m\u001b[38;5;21;01m.\u001b[39;00m\u001b[38;5;21;01mmodels\u001b[39;00m \u001b[38;5;28;01mimport\u001b[39;00m load_model\n",
      "\u001b[1;31mModuleNotFoundError\u001b[0m: No module named 'cvzone'"
     ]
    }
   ],
   "source": [
    "from keras.models import load_model\n",
    "from time import sleep\n",
    "import cv2\n",
    "import numpy as np\n",
    "from tensorflow.keras.preprocessing.image import img_to_array\n",
    "import time\n",
    "\n",
    "face_classifier = cv2.CascadeClassifier(r'haarcascade_frontalface_default.xml')\n",
    "classifier = load_model(r'final_emotion_modelG1.h5')\n",
    "emotion_labels = ['Angry', 'Disgust', 'Fear', 'Happy', 'Neutral', 'Sad', 'Surprise']\n",
    "\n",
    "def draw_progress_bar(img, emotion, value, x, y, width=200, height=20):\n",
    "    cv2.rectangle(img, (x, y), (x + width, y + height), (255, 255, 255), 1)\n",
    "    filled_width = int(width * value)\n",
    "    cv2.rectangle(img, (x, y), (x + filled_width, y + height), (0, 255, 0), -1)\n",
    "    \n",
    "    text = f\"{emotion}: {value:.2f}\"\n",
    "    (text_width, text_height), _ = cv2.getTextSize(text, cv2.FONT_HERSHEY_SIMPLEX, 0.5, 1)\n",
    "    text_x = x + (width - text_width) // 2\n",
    "    text_y = y + height - (height - text_height) // 2\n",
    "    \n",
    "    cv2.putText(img, text, (text_x - 1, text_y - 1), cv2.FONT_HERSHEY_SIMPLEX, 0.5, (0, 0, 0), 1)\n",
    "    cv2.putText(img, text, (text_x, text_y), cv2.FONT_HERSHEY_SIMPLEX, 0.5, (255, 255, 255), 1)\n",
    "\n",
    "cap = cv2.VideoCapture(0)\n",
    "\n",
    "emotion_start_time = time.time()\n",
    "last_dominant_emotion = 'Neutral'\n",
    "\n",
    "while True:\n",
    "    _, frame = cap.read()\n",
    "    labels = []\n",
    "    gray = cv2.cvtColor(frame, cv2.COLOR_BGR2GRAY)\n",
    "    faces = face_classifier.detectMultiScale(gray)\n",
    "    \n",
    "    for (x,y,w,h) in faces:\n",
    "        cv2.rectangle(frame, (x,y), (x+w,y+h), (0,255,255), 2)\n",
    "        roi_gray = gray[y:y+h, x:x+w]\n",
    "        roi_gray = cv2.resize(roi_gray, (48,48), interpolation=cv2.INTER_AREA)\n",
    "        \n",
    "        if np.sum([roi_gray]) != 0:\n",
    "            roi = roi_gray.astype('float') / 255.0\n",
    "            roi = img_to_array(roi)\n",
    "            roi = np.expand_dims(roi, axis=0)\n",
    "            prediction = classifier.predict(roi)[0]\n",
    "            label = emotion_labels[prediction.argmax()]\n",
    "            label_position = (x, y)\n",
    "            cv2.putText(frame, label, label_position, cv2.FONT_HERSHEY_SIMPLEX, 1, (0,255,0), 2)\n",
    "            \n",
    "            # Draw progress bars\n",
    "            for i, (emotion, value) in enumerate(zip(emotion_labels, prediction)):\n",
    "                draw_progress_bar(frame, emotion, value, 10, 50 + i * 25)\n",
    "            \n",
    "            # Update dominant emotion\n",
    "            dominant_emotion = emotion_labels[prediction.argmax()]\n",
    "            if dominant_emotion != last_dominant_emotion:\n",
    "                emotion_start_time = time.time()\n",
    "                last_dominant_emotion = dominant_emotion\n",
    "            \n",
    "            # Draw emotion indicator circle\n",
    "            circle_x = 30\n",
    "            circle_y = frame.shape[0] - 30\n",
    "            circle_color = (255, 255, 255)  # Default white\n",
    "            circle_radius = 10  # Initial size\n",
    "\n",
    "            emotion_duration = time.time() - emotion_start_time\n",
    "            if emotion_duration > 5:\n",
    "                circle_radius = 15  # Scale up after 5 seconds\n",
    "                if dominant_emotion == 'Happy':\n",
    "                    circle_color = (0, 255, 0)  # Green\n",
    "                elif dominant_emotion == 'Sad':\n",
    "                    circle_color = (0, 165, 255)  # Orange\n",
    "                elif dominant_emotion in ['Fear', 'Angry']:\n",
    "                    circle_color = (0, 0, 255)  # Red\n",
    "                elif dominant_emotion in ['Surprise', 'Disgust']:\n",
    "                    circle_color = (0, 255, 255)  # Yellow\n",
    "\n",
    "            if emotion_duration > 60 and dominant_emotion in ['Sad', 'Neutral']:\n",
    "                circle_color = (255, 0, 0)  # Blue\n",
    "                cv2.putText(frame, \"Autism risk\", (circle_x - 30, circle_y + 20), cv2.FONT_HERSHEY_SIMPLEX, 0.5, (255, 255, 255), 1)\n",
    "\n",
    "            cv2.circle(frame, (circle_x, circle_y), circle_radius, circle_color, -1)\n",
    "        else:\n",
    "            cv2.putText(frame, 'No Faces', (30,80), cv2.FONT_HERSHEY_SIMPLEX, 1, (0,255,0), 2)\n",
    "    \n",
    "    cv2.imshow('Emotion Detector', frame)\n",
    "    if cv2.waitKey(1) & 0xFF == ord('q'):\n",
    "        break\n",
    "\n",
    "cap.release()\n",
    "cv2.destroyAllWindows()"
   ]
  },
  {
   "cell_type": "code",
   "execution_count": 3,
   "id": "ef80f431-d962-4282-8bf1-1099b767c6a7",
   "metadata": {},
   "outputs": [
    {
     "name": "stdout",
     "output_type": "stream",
     "text": [
      "TensorFlow version: 2.17.0\n",
      "Keras version: 3.5.0\n",
      "OpenCV version: 4.10.0\n"
     ]
    }
   ],
   "source": [
    "import tensorflow as tf\n",
    "print(\"TensorFlow version:\", tf.__version__)\n",
    "\n",
    "import keras\n",
    "print(\"Keras version:\", keras.__version__)\n",
    "\n",
    "import cv2\n",
    "print(\"OpenCV version:\", cv2.__version__)"
   ]
  },
  {
   "cell_type": "code",
   "execution_count": 4,
   "id": "39e5de6a-de73-4b2a-867a-e0b02d533b8b",
   "metadata": {},
   "outputs": [
    {
     "name": "stdout",
     "output_type": "stream",
     "text": [
      "TensorFlow version: 2.17.0\n",
      "Num GPUs Available:  0\n",
      "[]\n"
     ]
    }
   ],
   "source": [
    "import tensorflow as tf\n",
    "\n",
    "print(\"TensorFlow version:\", tf.__version__)\n",
    "print(\"Num GPUs Available: \", len(tf.config.list_physical_devices('GPU')))\n",
    "print(tf.config.list_physical_devices('GPU'))"
   ]
  }
 ],
 "metadata": {
  "kernelspec": {
   "display_name": "Python (emotionG4)",
   "language": "python",
   "name": "emotiong4"
  },
  "language_info": {
   "codemirror_mode": {
    "name": "ipython",
    "version": 3
   },
   "file_extension": ".py",
   "mimetype": "text/x-python",
   "name": "python",
   "nbconvert_exporter": "python",
   "pygments_lexer": "ipython3",
   "version": "3.9.19"
  }
 },
 "nbformat": 4,
 "nbformat_minor": 5
}
